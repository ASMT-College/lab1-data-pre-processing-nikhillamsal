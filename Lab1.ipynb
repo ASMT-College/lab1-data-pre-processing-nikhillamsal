{
  "nbformat": 4,
  "nbformat_minor": 0,
  "metadata": {
    "colab": {
      "provenance": [],
      "authorship_tag": "ABX9TyMeZxx/lepeOo7JeY+ZI+kW",
      "include_colab_link": true
    },
    "kernelspec": {
      "name": "python3",
      "display_name": "Python 3"
    },
    "language_info": {
      "name": "python"
    }
  },
  "cells": [
    {
      "cell_type": "markdown",
      "metadata": {
        "id": "view-in-github",
        "colab_type": "text"
      },
      "source": [
        "<a href=\"https://colab.research.google.com/github/ASMT-College/lab1-data-pre-processing-nikhillamsal/blob/main/Lab1.ipynb\" target=\"_parent\"><img src=\"https://colab.research.google.com/assets/colab-badge.svg\" alt=\"Open In Colab\"/></a>"
      ]
    },
    {
      "cell_type": "code",
      "execution_count": 7,
      "metadata": {
        "id": "RzN_5ReYSi1g",
        "colab": {
          "base_uri": "https://localhost:8080/"
        },
        "outputId": "5e8fb7fb-ec0c-48d0-e8d9-ab620544f7bd"
      },
      "outputs": [
        {
          "output_type": "stream",
          "name": "stdout",
          "text": [
            "Lab by Nikhil Lamsal.\n",
            "Initial Data:\n",
            "    ID     Name   Age       Department   Salary\n",
            "0   1     John  28.0               HR  50000.0\n",
            "1   2     Jane  35.0          Finance  60000.0\n",
            "2   3    Emily   NaN               HR  55000.0\n",
            "3   4  Michael  40.0  Human Resources      NaN\n",
            "4   5    Sarah  29.0               IT  52000.0\n",
            "\n",
            "Cleaned Data:\n",
            "    ID     Name   Age Department   Salary\n",
            "0   1     John  28.0         HR  50000.0\n",
            "1   2     Jane  35.0    Finance  60000.0\n",
            "2   3    Emily  35.7         HR  55000.0\n",
            "3   4  Michael  40.0         HR  58100.0\n",
            "4   5    Sarah  29.0         IT  52000.0\n"
          ]
        }
      ],
      "source": [
        "import pandas as pd\n",
        "df = pd.read_csv('employee_data.csv')\n",
        "print(\"Lab by Nikhil Lamsal.\")\n",
        "print(\"Initial Data:\\n\", df.head())\n",
        "# Handle missing values with mean\n",
        "df['Age'] = df['Age'].fillna(df['Age'].mean())\n",
        "df['Salary'] = df['Salary'].fillna(df['Salary'].mean())\n",
        "# Standardize department names\n",
        "df['Department'] = df['Department'].replace({\n",
        "   'Human Resources': 'HR',\n",
        "   'H.R.': 'HR',\n",
        "   'hr': 'HR'\n",
        "})\n",
        "# Remove duplicate records\n",
        "df.drop_duplicates(subset='ID', keep='first', inplace=True)\n",
        "print(\"\\nCleaned Data:\\n\", df.head())"
      ]
    },
    {
      "cell_type": "markdown",
      "source": [
        "**Normalization**"
      ],
      "metadata": {
        "id": "ccjOC7s4epTm"
      }
    },
    {
      "cell_type": "code",
      "source": [
        "import pandas as pd\n",
        "from sklearn.preprocessing import MinMaxScaler\n",
        "# Load the dataset\n",
        "df = pd.read_csv('student_scores.csv')\n",
        "print(\"Lab by Nikhil Lamsal.\")\n",
        "print(\"Initial Data:\\n\", df.head())\n",
        "# Apply Min-Max normalization\n",
        "scaler = MinMaxScaler()\n",
        "df[['Math', 'Science', 'English']] = scaler.fit_transform(df[['Math', 'Science', 'English']])\n",
        "print(\"\\nNormalized Scores:\\n\", df.head())"
      ],
      "metadata": {
        "colab": {
          "base_uri": "https://localhost:8080/"
        },
        "id": "HFDV422Deyar",
        "outputId": "bf9fec46-030e-482d-b5c1-a110b87116ff"
      },
      "execution_count": 8,
      "outputs": [
        {
          "output_type": "stream",
          "name": "stdout",
          "text": [
            "Lab by Nikhil Lamsal.\n",
            "Initial Data:\n",
            "    StudentID  Math  Science  English\n",
            "0          1    78       65       80\n",
            "1          2    88       75       85\n",
            "2          3    60       50       55\n",
            "3          4    90       78       92\n",
            "4          5    55       48       58\n",
            "\n",
            "Normalized Scores:\n",
            "    StudentID      Math  Science   English\n",
            "0          1  0.657143  0.53125  0.675676\n",
            "1          2  0.942857  0.84375  0.810811\n",
            "2          3  0.142857  0.06250  0.000000\n",
            "3          4  1.000000  0.93750  1.000000\n",
            "4          5  0.000000  0.00000  0.081081\n"
          ]
        }
      ]
    },
    {
      "cell_type": "markdown",
      "source": [
        "**Data Binning**"
      ],
      "metadata": {
        "id": "_eWREqELgIRu"
      }
    },
    {
      "cell_type": "code",
      "source": [
        "import pandas as pd\n",
        "# Load the dataset\n",
        "df = pd.read_csv('customer_ages.csv')\n",
        "print(\"Lab by Nikhil Lamsal.\")\n",
        "print(\"Initial Data:\\n\", df.head())\n",
        "# Create bins and assign labels\n",
        "bins = [18, 30, 50, 100]\n",
        "labels = ['Young', 'Middle-aged', 'Senior']\n",
        "df['AgeGroup'] = pd.cut(df['Age'], bins=bins, labels=labels, right=False)\n",
        "print(\"\\nData after Binning:\\n\", df.head())\n",
        "# Calculate distribution of customers in each age group\n",
        "age_group_distribution = df['AgeGroup'].value_counts()\n",
        "print(\"\\nAge Group Distribution:\\n\", age_group_distribution)"
      ],
      "metadata": {
        "colab": {
          "base_uri": "https://localhost:8080/"
        },
        "id": "KCKhXu1zgLme",
        "outputId": "ba1cca56-7939-4b1f-b8e2-6f1fdb12cb05"
      },
      "execution_count": 9,
      "outputs": [
        {
          "output_type": "stream",
          "name": "stdout",
          "text": [
            "Lab by Nikhil Lamsal.\n",
            "Initial Data:\n",
            "    CustomerID  Age\n",
            "0           1   25\n",
            "1           2   42\n",
            "2           3   36\n",
            "3           4   53\n",
            "4           5   28\n",
            "\n",
            "Data after Binning:\n",
            "    CustomerID  Age     AgeGroup\n",
            "0           1   25        Young\n",
            "1           2   42  Middle-aged\n",
            "2           3   36  Middle-aged\n",
            "3           4   53       Senior\n",
            "4           5   28        Young\n",
            "\n",
            "Age Group Distribution:\n",
            " AgeGroup\n",
            "Middle-aged    7\n",
            "Young          5\n",
            "Senior         3\n",
            "Name: count, dtype: int64\n"
          ]
        }
      ]
    },
    {
      "cell_type": "markdown",
      "source": [
        "Discritization"
      ],
      "metadata": {
        "id": "7LlNkXO7zRyq"
      }
    },
    {
      "cell_type": "code",
      "source": [
        "import pandas as pd\n",
        "# Load the dataset\n",
        "df = pd.read_csv('sales_data.csv')\n",
        "print(\"Lab by Nikhil Lamsal.\")\n",
        "print(\"Initial Data:\\n\", df.head())\n",
        "# Apply discretization\n",
        "bins = [0, 5000, 20000, float('inf')]\n",
        "labels = ['Low', 'Medium', 'High']\n",
        "df['SalesCategory'] = pd.cut(df['Sales'], bins=bins, labels=labels)\n",
        "print(\"\\nData after Discretization:\\n\", df.head())\n",
        "# Analyze the distribution of sales categories\n",
        "sales_category_distribution = df['SalesCategory'].value_counts()\n",
        "print(\"\\nSales Category Distribution:\\n\", sales_category_distribution)"
      ],
      "metadata": {
        "colab": {
          "base_uri": "https://localhost:8080/"
        },
        "id": "qsutxwfNzSvr",
        "outputId": "9fc2d27c-efa1-4a24-d6e1-1a31992b6e3e"
      },
      "execution_count": 10,
      "outputs": [
        {
          "output_type": "stream",
          "name": "stdout",
          "text": [
            "Lab by Nikhil Lamsal.\n",
            "Initial Data:\n",
            "       Month  Sales\n",
            "0   January  15000\n",
            "1  February  18000\n",
            "2     March  12000\n",
            "3     April  30000\n",
            "4       May  22000\n",
            "\n",
            "Data after Discretization:\n",
            "       Month  Sales SalesCategory\n",
            "0   January  15000        Medium\n",
            "1  February  18000        Medium\n",
            "2     March  12000        Medium\n",
            "3     April  30000          High\n",
            "4       May  22000          High\n",
            "\n",
            "Sales Category Distribution:\n",
            " SalesCategory\n",
            "Medium    7\n",
            "High      4\n",
            "Low       1\n",
            "Name: count, dtype: int64\n"
          ]
        }
      ]
    },
    {
      "cell_type": "markdown",
      "source": [
        "Feature Selection"
      ],
      "metadata": {
        "id": "tYmEyEvy0o-F"
      }
    },
    {
      "cell_type": "code",
      "source": [
        "import pandas as pd\n",
        "from sklearn.feature_selection import SelectKBest, chi2\n",
        "# Load the dataset\n",
        "df = pd.read_csv('medical_data.csv')\n",
        "print(\"Lab by Nikhil Lamsal.\")\n",
        "print(\"Initial Data:\\n\", df.head())\n",
        "# Define features and target variable\n",
        "X = df.drop(columns=['Disease'])\n",
        "y = df['Disease']\n",
        "# Apply Chi-square feature selection\n",
        "selector = SelectKBest(score_func=chi2, k=3)\n",
        "selector.fit(X, y)\n",
        "# Get the top 3 features\n",
        "top_features = X.columns[selector.get_support()]\n",
        "print(top_features)\n",
        "print(\"\\nTop 3 Features for Predicting Disease:\\n\", top_features)\n"
      ],
      "metadata": {
        "colab": {
          "base_uri": "https://localhost:8080/"
        },
        "id": "QaZc_bIS0pxL",
        "outputId": "379f6a40-f337-42b6-ec8e-8e3f1d0b062f"
      },
      "execution_count": 12,
      "outputs": [
        {
          "output_type": "stream",
          "name": "stdout",
          "text": [
            "Lab by Nikhil Lamsal.\n",
            "Initial Data:\n",
            "    PatientID  Age  BloodPressure  Cholesterol  Glucose  HeartRate  Disease\n",
            "0          1   45            130          180       95         70        1\n",
            "1          2   50            140          200      105         75        1\n",
            "2          3   60            150          240      120         80        1\n",
            "3          4   40            120          170       90         65        0\n",
            "4          5   35            110          160       85         60        0\n",
            "Index(['Age', 'Cholesterol', 'Glucose'], dtype='object')\n",
            "\n",
            "Top 3 Features for Predicting Disease:\n",
            " Index(['Age', 'Cholesterol', 'Glucose'], dtype='object')\n"
          ]
        }
      ]
    }
  ]
}